{
 "cells": [
  {
   "cell_type": "code",
   "execution_count": 1,
   "id": "249a04e1",
   "metadata": {},
   "outputs": [],
   "source": [
    "import pandas as pd\n",
    "import numpy as np\n",
    "\n",
    "import spotipy\n",
    "from spotipy.oauth2 import SpotifyClientCredentials\n",
    "import requests.exceptions"
   ]
  },
  {
   "cell_type": "code",
   "execution_count": null,
   "id": "9dcce75e",
   "metadata": {},
   "outputs": [],
   "source": []
  },
  {
   "cell_type": "code",
   "execution_count": 2,
   "id": "97062441",
   "metadata": {},
   "outputs": [
    {
     "data": {
      "text/plain": [
       "(1496, 1)"
      ]
     },
     "execution_count": 2,
     "metadata": {},
     "output_type": "execute_result"
    }
   ],
   "source": [
    "df = pd.read_csv('MitoExport.csv')\n",
    "df = df.drop(df.index[:18725])\n",
    "df.shape"
   ]
  },
  {
   "cell_type": "code",
   "execution_count": 3,
   "id": "12168825",
   "metadata": {},
   "outputs": [],
   "source": [
    "client_id = \"fdd79f8f236742a99ed71d14b6bd322f\"\n",
    "client_secret = \"3dc8ab2bc7f54757946021f044f30e39\"\n",
    "\n",
    "auth_manager = SpotifyClientCredentials(client_id=client_id, client_secret=client_secret)\n",
    "sp = spotipy.Spotify(auth_manager=auth_manager)\n",
    "try:\n",
    "    # Make an API request that could potentially fail\n",
    "    results = sp.search(q='invalid search query')\n",
    "except spotipy.client.SpotifyException as e:\n",
    "    # Catch the SpotifyException and retrieve the HTTP error code\n",
    "    if isinstance(e.http_status, requests.exceptions.HTTPError):\n",
    "        http_error_code = e.http_status.response.status_code\n",
    "        print(f\"HTTP error code: {http_error_code}\")"
   ]
  },
  {
   "cell_type": "code",
   "execution_count": 4,
   "id": "fa9cb69d",
   "metadata": {},
   "outputs": [
    {
     "name": "stdout",
     "output_type": "stream",
     "text": [
      "1496\n"
     ]
    }
   ],
   "source": [
    "def get_image_urls(id):\n",
    "    track_info = sp.track(id)\n",
    "    return track_info['album']['images'][1]['url']\n",
    "\n",
    "image_df = pd.DataFrame(columns=['id', 'image_url'])\n",
    "cpt = 0\n",
    "print(len(df))"
   ]
  },
  {
   "cell_type": "code",
   "execution_count": 5,
   "id": "39d39e9a",
   "metadata": {},
   "outputs": [
    {
     "data": {
      "text/plain": [
       "\"for i in range(len(df)):\\n    id = df.iloc[i]['track_id']\\n    image_url = get_image_urls(id)\\n    image_df.loc[i] = [id, image_url]\\n    cpt+=1\\n    print(cpt)\""
      ]
     },
     "execution_count": 5,
     "metadata": {},
     "output_type": "execute_result"
    }
   ],
   "source": [
    "\"\"\"for i in range(len(df)):\n",
    "    id = df.iloc[i]['track_id']\n",
    "    image_url = get_image_urls(id)\n",
    "    image_df.loc[i] = [id, image_url]\n",
    "    cpt+=1\n",
    "    print(cpt)\"\"\""
   ]
  },
  {
   "cell_type": "code",
   "execution_count": 6,
   "id": "2af7e329",
   "metadata": {},
   "outputs": [],
   "source": [
    "#image_df.to_csv('image_df_8735.csv', index=False) # renomé le df de ligne a ligne "
   ]
  },
  {
   "cell_type": "code",
   "execution_count": null,
   "id": "fd0564f2",
   "metadata": {},
   "outputs": [],
   "source": [
    "def get_image_urls(id):\n",
    "    try:\n",
    "        track_info = sp.track(id)\n",
    "        images = track_info['album']['images']\n",
    "        if len(images) > 1:\n",
    "            return images[1]['url']\n",
    "        elif len(images) == 1:\n",
    "            return images[0]['url']\n",
    "        else:\n",
    "            return None\n",
    "    except spotipy.client.SpotifyException as e:\n",
    "        if isinstance(e.http_status, requests.exceptions.HTTPError):\n",
    "            http_error_code = e.http_status.response.status_code\n",
    "            print(f\"HTTP error code: {http_error_code}\")\n",
    "            return None\n",
    "\n",
    "# Create an empty DataFrame to store the results\n",
    "image_df = pd.DataFrame(columns=['id', 'image_url'])\n",
    "\n",
    "# Loop over the tracks in the input DataFrame and retrieve the album artwork URLs\n",
    "for i in range(len(df)):\n",
    "    id = df.iloc[i]['track_id']\n",
    "    image_url = get_image_urls(id)\n",
    "    \n",
    "    # Add the track ID and image URL to the DataFrame if the URL is not None\n",
    "    if image_url is not None:\n",
    "        image_df.loc[i] = [id, image_url]\n",
    "    \n",
    "    # Print the progress\n",
    "    print(f\"Processed {i+1}/{len(df)} tracks\")\n",
    "\n",
    "# Print the resulting DataFrame\n",
    "print(image_df)"
   ]
  },
  {
   "cell_type": "code",
   "execution_count": null,
   "id": "981f546c",
   "metadata": {},
   "outputs": [],
   "source": [
    "image_df"
   ]
  },
  {
   "cell_type": "code",
   "execution_count": null,
   "id": "4f3b61df",
   "metadata": {},
   "outputs": [],
   "source": [
    "#image_df.to_csv('image_df_8892_18725.csv', index=False)"
   ]
  },
  {
   "cell_type": "code",
   "execution_count": null,
   "id": "cc2739d7",
   "metadata": {},
   "outputs": [],
   "source": []
  },
  {
   "cell_type": "code",
   "execution_count": null,
   "id": "e8e2e1ed",
   "metadata": {},
   "outputs": [],
   "source": []
  },
  {
   "cell_type": "code",
   "execution_count": null,
   "id": "d1efbf13",
   "metadata": {},
   "outputs": [],
   "source": []
  }
 ],
 "metadata": {
  "kernelspec": {
   "display_name": "Python 3 (ipykernel)",
   "language": "python",
   "name": "python3"
  },
  "language_info": {
   "codemirror_mode": {
    "name": "ipython",
    "version": 3
   },
   "file_extension": ".py",
   "mimetype": "text/x-python",
   "name": "python",
   "nbconvert_exporter": "python",
   "pygments_lexer": "ipython3",
   "version": "3.10.9"
  }
 },
 "nbformat": 4,
 "nbformat_minor": 5
}
