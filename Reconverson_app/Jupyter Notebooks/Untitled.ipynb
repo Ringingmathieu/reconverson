{
 "cells": [
  {
   "cell_type": "code",
   "execution_count": 1,
   "id": "9c341ef7",
   "metadata": {},
   "outputs": [],
   "source": [
    "import pandas as pd"
   ]
  },
  {
   "cell_type": "code",
   "execution_count": 2,
   "id": "cc731530",
   "metadata": {},
   "outputs": [],
   "source": [
    "# importer df final\n",
    "df = pd.read_csv('C:/Users/tit_r/Hackathon/Df_plus_Id.csv')"
   ]
  },
  {
   "cell_type": "code",
   "execution_count": 3,
   "id": "a34e4f3c",
   "metadata": {},
   "outputs": [],
   "source": [
    "img_1 = pd.read_csv('C:/Users/tit_r/Hackathon/img_1.csv')\n",
    "img_fin = pd.read_csv('C:/Users/tit_r/Hackathon/image_df_18725_20220.csv')"
   ]
  },
  {
   "cell_type": "code",
   "execution_count": 5,
   "id": "26155406",
   "metadata": {},
   "outputs": [],
   "source": [
    "df_image = pd.read_csv('C:/Users/tit_r/Hackathon/MitoExport (1).csv')"
   ]
  },
  {
   "cell_type": "code",
   "execution_count": 10,
   "id": "7286d3d3",
   "metadata": {},
   "outputs": [],
   "source": [
    "d = df_image[df_image['image_url'].isnull()]"
   ]
  },
  {
   "cell_type": "code",
   "execution_count": 2,
   "id": "d1efa1c3",
   "metadata": {},
   "outputs": [],
   "source": [
    "df_imag = pd.read_csv('C:/Users/tit_r/Hackathon/Df_final_img.csv')"
   ]
  },
  {
   "cell_type": "code",
   "execution_count": 3,
   "id": "d8003af3",
   "metadata": {},
   "outputs": [],
   "source": [
    "son = pd.read_csv('C:/Users/tit_r/Hackathon/Id_mp3.csv')"
   ]
  },
  {
   "cell_type": "code",
   "execution_count": 2,
   "id": "1192d9cd",
   "metadata": {},
   "outputs": [],
   "source": [
    "son = pd.read_csv('C:/Users/tit_r/Hackathon/Df_img_son.csv')"
   ]
  }
 ],
 "metadata": {
  "kernelspec": {
   "display_name": "Python 3 (ipykernel)",
   "language": "python",
   "name": "python3"
  },
  "language_info": {
   "codemirror_mode": {
    "name": "ipython",
    "version": 3
   },
   "file_extension": ".py",
   "mimetype": "text/x-python",
   "name": "python",
   "nbconvert_exporter": "python",
   "pygments_lexer": "ipython3",
   "version": "3.10.9"
  }
 },
 "nbformat": 4,
 "nbformat_minor": 5
}
